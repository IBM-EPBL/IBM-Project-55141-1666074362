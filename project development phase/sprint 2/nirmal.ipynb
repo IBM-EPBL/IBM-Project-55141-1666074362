{
  "cells": [
    {
      "cell_type": "code",
      "execution_count": null,
      "id": "51b7f1d3",
      "metadata": {
        "id": "51b7f1d3"
      },
      "outputs": [],
      "source": [
        "import pandas as pd\n",
        "import numpy as np\n",
        "import matplotlib as plt\n",
        "from sklearn.preprocessing import LabelEncoder\n",
        "import pickle"
      ]
    },
    {
      "cell_type": "code",
      "execution_count": null,
      "id": "d0452e6a",
      "metadata": {
        "id": "d0452e6a"
      },
      "outputs": [],
      "source": [
        "df = pd.read_csv(\"Data/autos.csv\",header=0,sep=',',encoding='Latin1')"
      ]
    },
    {
      "cell_type": "code",
      "execution_count": null,
      "id": "2691caa0",
      "metadata": {
        "id": "2691caa0",
        "outputId": "1aa04e2e-0171-48c1-c194-dd5874b1005c"
      },
      "outputs": [
        {
          "name": "stdout",
          "output_type": "stream",
          "text": [
            "privat        371525\n",
            "gewerblich         3\n",
            "Name: seller, dtype: int64\n"
          ]
        },
        {
          "name": "stderr",
          "output_type": "stream",
          "text": [
            "C:\\Users\\aswin\\AppData\\Local\\Temp\\ipykernel_17664\\976391629.py:6: FutureWarning: In a future version of pandas all arguments of DataFrame.drop except for the argument 'labels' will be keyword-only.\n",
            "  df=df.drop('seller',1)\n"
          ]
        },
        {
          "name": "stdout",
          "output_type": "stream",
          "text": [
            "Angebot    371516\n",
            "Gesuch         12\n",
            "Name: offerType, dtype: int64\n"
          ]
        },
        {
          "name": "stderr",
          "output_type": "stream",
          "text": [
            "C:\\Users\\aswin\\AppData\\Local\\Temp\\ipykernel_17664\\976391629.py:12: FutureWarning: In a future version of pandas all arguments of DataFrame.drop except for the argument 'labels' will be keyword-only.\n",
            "  df=df.drop('offerType',1)\n"
          ]
        }
      ],
      "source": [
        "#print al the different sellers\n",
        "print(df.seller.value_counts()) \n",
        "#remove the seller type having only 3 cars \n",
        "df[df.seller != 'gewerblich']\n",
        " #now all the sellers are same so we can get rid of this column \n",
        "df=df.drop('seller',1)\n",
        "#print al the different sellers \n",
        "print(df.offerType.value_counts())\n",
        "#remove the Offer Type havng only 12 listings \n",
        "df[df.offerType != 'Gesuch']\n",
        " #now all the offers are same so we can get rid of this column \n",
        "df=df.drop('offerType',1)"
      ]
    },
    {
      "cell_type": "code",
      "execution_count": null,
      "id": "bd18afdf",
      "metadata": {
        "id": "bd18afdf",
        "outputId": "d4f9505d-c222-49cd-d589-fe917e71a4ff"
      },
      "outputs": [
        {
          "name": "stdout",
          "output_type": "stream",
          "text": [
            "(371528, 18)\n",
            "(319709, 18)\n",
            "(309171, 18)\n"
          ]
        }
      ],
      "source": [
        "print(df.shape) \n",
        "df = df[(df.powerPS > 50) & (df.powerPS <900)]\n",
        "print(df.shape) \n",
        "df = df[(df.yearOfRegistration >= 1950) & (df.yearOfRegistration < 2017)]\n",
        "print(df.shape)"
      ]
    },
    {
      "cell_type": "code",
      "execution_count": null,
      "id": "5d624273",
      "metadata": {
        "id": "5d624273",
        "outputId": "70a8c736-5e6e-48f6-fd4e-b737f2a7d310"
      },
      "outputs": [
        {
          "data": {
            "text/html": [
              "<div>\n",
              "<style scoped>\n",
              "    .dataframe tbody tr th:only-of-type {\n",
              "        vertical-align: middle;\n",
              "    }\n",
              "\n",
              "    .dataframe tbody tr th {\n",
              "        vertical-align: top;\n",
              "    }\n",
              "\n",
              "    .dataframe thead th {\n",
              "        text-align: right;\n",
              "    }\n",
              "</style>\n",
              "<table border=\"1\" class=\"dataframe\">\n",
              "  <thead>\n",
              "    <tr style=\"text-align: right;\">\n",
              "      <th></th>\n",
              "      <th>dateCrawled</th>\n",
              "      <th>name</th>\n",
              "      <th>price</th>\n",
              "      <th>abtest</th>\n",
              "      <th>vehicleType</th>\n",
              "      <th>yearOfRegistration</th>\n",
              "      <th>gearbox</th>\n",
              "      <th>powerPS</th>\n",
              "      <th>model</th>\n",
              "      <th>kilometer</th>\n",
              "      <th>monthOfRegistration</th>\n",
              "      <th>fuelType</th>\n",
              "      <th>brand</th>\n",
              "      <th>notRepairedDamage</th>\n",
              "      <th>dateCreated</th>\n",
              "      <th>nrOfPictures</th>\n",
              "      <th>postalCode</th>\n",
              "      <th>lastSeen</th>\n",
              "    </tr>\n",
              "  </thead>\n",
              "  <tbody>\n",
              "    <tr>\n",
              "      <th>1</th>\n",
              "      <td>2016-03-24 10:58:45</td>\n",
              "      <td>A5_Sportback_2.7_Tdi</td>\n",
              "      <td>18300</td>\n",
              "      <td>test</td>\n",
              "      <td>coupe</td>\n",
              "      <td>2011</td>\n",
              "      <td>manuell</td>\n",
              "      <td>190</td>\n",
              "      <td>NaN</td>\n",
              "      <td>125000</td>\n",
              "      <td>5</td>\n",
              "      <td>diesel</td>\n",
              "      <td>audi</td>\n",
              "      <td>ja</td>\n",
              "      <td>2016-03-24 00:00:00</td>\n",
              "      <td>0</td>\n",
              "      <td>66954</td>\n",
              "      <td>2016-04-07 01:46:50</td>\n",
              "    </tr>\n",
              "    <tr>\n",
              "      <th>2</th>\n",
              "      <td>2016-03-14 12:52:21</td>\n",
              "      <td>Jeep_Grand_Cherokee_\"Overland\"</td>\n",
              "      <td>9800</td>\n",
              "      <td>test</td>\n",
              "      <td>suv</td>\n",
              "      <td>2004</td>\n",
              "      <td>automatik</td>\n",
              "      <td>163</td>\n",
              "      <td>grand</td>\n",
              "      <td>125000</td>\n",
              "      <td>8</td>\n",
              "      <td>diesel</td>\n",
              "      <td>jeep</td>\n",
              "      <td>NaN</td>\n",
              "      <td>2016-03-14 00:00:00</td>\n",
              "      <td>0</td>\n",
              "      <td>90480</td>\n",
              "      <td>2016-04-05 12:47:46</td>\n",
              "    </tr>\n",
              "    <tr>\n",
              "      <th>3</th>\n",
              "      <td>2016-03-17 16:54:04</td>\n",
              "      <td>GOLF_4_1_4__3TÜRER</td>\n",
              "      <td>1500</td>\n",
              "      <td>test</td>\n",
              "      <td>kleinwagen</td>\n",
              "      <td>2001</td>\n",
              "      <td>manuell</td>\n",
              "      <td>75</td>\n",
              "      <td>golf</td>\n",
              "      <td>150000</td>\n",
              "      <td>6</td>\n",
              "      <td>benzin</td>\n",
              "      <td>volkswagen</td>\n",
              "      <td>nein</td>\n",
              "      <td>2016-03-17 00:00:00</td>\n",
              "      <td>0</td>\n",
              "      <td>91074</td>\n",
              "      <td>2016-03-17 17:40:17</td>\n",
              "    </tr>\n",
              "    <tr>\n",
              "      <th>4</th>\n",
              "      <td>2016-03-31 17:25:20</td>\n",
              "      <td>Skoda_Fabia_1.4_TDI_PD_Classic</td>\n",
              "      <td>3600</td>\n",
              "      <td>test</td>\n",
              "      <td>kleinwagen</td>\n",
              "      <td>2008</td>\n",
              "      <td>manuell</td>\n",
              "      <td>69</td>\n",
              "      <td>fabia</td>\n",
              "      <td>90000</td>\n",
              "      <td>7</td>\n",
              "      <td>diesel</td>\n",
              "      <td>skoda</td>\n",
              "      <td>nein</td>\n",
              "      <td>2016-03-31 00:00:00</td>\n",
              "      <td>0</td>\n",
              "      <td>60437</td>\n",
              "      <td>2016-04-06 10:17:21</td>\n",
              "    </tr>\n",
              "    <tr>\n",
              "      <th>5</th>\n",
              "      <td>2016-04-04 17:36:23</td>\n",
              "      <td>BMW_316i___e36_Limousine___Bastlerfahrzeug__Ex...</td>\n",
              "      <td>650</td>\n",
              "      <td>test</td>\n",
              "      <td>limousine</td>\n",
              "      <td>1995</td>\n",
              "      <td>manuell</td>\n",
              "      <td>102</td>\n",
              "      <td>3er</td>\n",
              "      <td>150000</td>\n",
              "      <td>10</td>\n",
              "      <td>benzin</td>\n",
              "      <td>bmw</td>\n",
              "      <td>ja</td>\n",
              "      <td>2016-04-04 00:00:00</td>\n",
              "      <td>0</td>\n",
              "      <td>33775</td>\n",
              "      <td>2016-04-06 19:17:07</td>\n",
              "    </tr>\n",
              "  </tbody>\n",
              "</table>\n",
              "</div>"
            ],
            "text/plain": [
              "           dateCrawled                                               name  \\\n",
              "1  2016-03-24 10:58:45                               A5_Sportback_2.7_Tdi   \n",
              "2  2016-03-14 12:52:21                     Jeep_Grand_Cherokee_\"Overland\"   \n",
              "3  2016-03-17 16:54:04                                 GOLF_4_1_4__3TÜRER   \n",
              "4  2016-03-31 17:25:20                     Skoda_Fabia_1.4_TDI_PD_Classic   \n",
              "5  2016-04-04 17:36:23  BMW_316i___e36_Limousine___Bastlerfahrzeug__Ex...   \n",
              "\n",
              "   price abtest vehicleType  yearOfRegistration    gearbox  powerPS  model  \\\n",
              "1  18300   test       coupe                2011    manuell      190    NaN   \n",
              "2   9800   test         suv                2004  automatik      163  grand   \n",
              "3   1500   test  kleinwagen                2001    manuell       75   golf   \n",
              "4   3600   test  kleinwagen                2008    manuell       69  fabia   \n",
              "5    650   test   limousine                1995    manuell      102    3er   \n",
              "\n",
              "   kilometer  monthOfRegistration fuelType       brand notRepairedDamage  \\\n",
              "1     125000                    5   diesel        audi                ja   \n",
              "2     125000                    8   diesel        jeep               NaN   \n",
              "3     150000                    6   benzin  volkswagen              nein   \n",
              "4      90000                    7   diesel       skoda              nein   \n",
              "5     150000                   10   benzin         bmw                ja   \n",
              "\n",
              "           dateCreated  nrOfPictures  postalCode             lastSeen  \n",
              "1  2016-03-24 00:00:00             0       66954  2016-04-07 01:46:50  \n",
              "2  2016-03-14 00:00:00             0       90480  2016-04-05 12:47:46  \n",
              "3  2016-03-17 00:00:00             0       91074  2016-03-17 17:40:17  \n",
              "4  2016-03-31 00:00:00             0       60437  2016-04-06 10:17:21  \n",
              "5  2016-04-04 00:00:00             0       33775  2016-04-06 19:17:07  "
            ]
          },
          "execution_count": 5,
          "metadata": {},
          "output_type": "execute_result"
        }
      ],
      "source": [
        "df.head()"
      ]
    },
    {
      "cell_type": "code",
      "execution_count": null,
      "id": "98a2a960",
      "metadata": {
        "id": "98a2a960"
      },
      "outputs": [],
      "source": [
        "df.drop(['name', 'abtest', 'dateCrawled','nrOfPictures', 'lastSeen', 'postalCode', 'dateCreated'], axis='columns', inplace=True)"
      ]
    },
    {
      "cell_type": "code",
      "execution_count": null,
      "id": "08dd3057",
      "metadata": {
        "id": "08dd3057"
      },
      "outputs": [],
      "source": [
        "new_df = df.copy()\n",
        "new_df = new_df.drop_duplicates(['price', 'vehicleType', 'yearOfRegistration','gearbox', 'powerPS', 'model', 'kilometer', 'monthOfRegistration', 'fuelType' , 'notRepairedDamage'])\n"
      ]
    },
    {
      "cell_type": "code",
      "execution_count": null,
      "id": "d837afdc",
      "metadata": {
        "id": "d837afdc"
      },
      "outputs": [],
      "source": [
        "new_df.gearbox.replace(('manuell', 'automatik'), ('manual','automatic'),inplace=True) \n",
        "new_df.fuelType.replace(('benzin', 'andere', 'elektro'), ('petrol', 'others', 'electric'),inplace=True)\n",
        "new_df.vehicleType.replace(('kleinwagen', 'cabrio', 'kombi', 'andere'),('small car','convertible', 'combination', 'others'), inplace=True) \n",
        "new_df.notRepairedDamage.replace(('ja', 'nein'), ('Yes', 'No'), inplace =True)"
      ]
    },
    {
      "cell_type": "code",
      "execution_count": null,
      "id": "4151a441",
      "metadata": {
        "id": "4151a441"
      },
      "outputs": [],
      "source": [
        "new_df = new_df[(new_df.price >= 100) & (new_df.price <= 150000)]\n",
        "new_df['notRepairedDamage'].fillna(value='not-declared', inplace=True)\n",
        "new_df['fuelType'].fillna(value='not-declared', inplace=True)\n",
        "new_df['gearbox'].fillna(value='not-declared', inplace=True) \n",
        "new_df['vehicleType'].fillna(value='not-declared', inplace=True)\n",
        "new_df['model'].fillna(value='not-declared', inplace=True)"
      ]
    },
    {
      "cell_type": "code",
      "execution_count": null,
      "id": "cd87357e",
      "metadata": {
        "id": "cd87357e"
      },
      "outputs": [],
      "source": [
        "new_df.to_csv(\"autos_preprocessed.csv\")"
      ]
    },
    {
      "cell_type": "code",
      "execution_count": null,
      "id": "0790f476",
      "metadata": {
        "id": "0790f476",
        "outputId": "8cd2dc1d-0ddb-4967-a053-347ae7e9e27b"
      },
      "outputs": [
        {
          "name": "stdout",
          "output_type": "stream",
          "text": [
            "gearbox : LabelEncoder()\n",
            "notRepairedDamage : LabelEncoder()\n",
            "model : LabelEncoder()\n",
            "brand : LabelEncoder()\n",
            "fuelType : LabelEncoder()\n",
            "vehicleType : LabelEncoder()\n",
            "Index(['price', 'yearOfRegistration', 'powerPS', 'kilometer',\n",
            "       'monthOfRegistration', 'gearbox_labels', 'notRepairedDamage_labels',\n",
            "       'model_labels', 'brand_labels', 'fuelType_labels',\n",
            "       'vehicleType_labels'],\n",
            "      dtype='object')\n"
          ]
        }
      ],
      "source": [
        "labels = ['gearbox', 'notRepairedDamage', 'model', 'brand', 'fuelType', 'vehicleType']\n",
        "mapper = {}\n",
        "for i in labels:\n",
        "  mapper[i] = LabelEncoder()\n",
        "  mapper[i].fit(new_df[i]) \n",
        "  tr = mapper[i].transform(new_df[i])\n",
        "  np.save(str('classes'+i+'.npy'), mapper[i].classes_)\n",
        "  print(i,\":\",mapper[i]) \n",
        "  new_df.loc[:, i + '_labels'] = pd. Series(tr, index=new_df.index)\n",
        "#Final data to be put in a new dataframe called \"LABELED\", \n",
        "labeled = new_df[ ['price', 'yearOfRegistration' , 'powerPS' ,'kilometer' , 'monthOfRegistration']+ [x+\"_labels\" for x in labels]]\n",
        "print(labeled.columns)"
      ]
    },
    {
      "cell_type": "code",
      "execution_count": null,
      "id": "d343576f",
      "metadata": {
        "id": "d343576f"
      },
      "outputs": [],
      "source": [
        "Y = labeled.iloc[:,0].values\n",
        "X = labeled.iloc[:,1:].values\n",
        "Y = Y.reshape(-1,1)"
      ]
    },
    {
      "cell_type": "code",
      "execution_count": null,
      "id": "52f62734",
      "metadata": {
        "id": "52f62734",
        "outputId": "f7212ae7-2222-4793-b91d-4507c3d75e66"
      },
      "outputs": [
        {
          "data": {
            "text/html": [
              "<div>\n",
              "<style scoped>\n",
              "    .dataframe tbody tr th:only-of-type {\n",
              "        vertical-align: middle;\n",
              "    }\n",
              "\n",
              "    .dataframe tbody tr th {\n",
              "        vertical-align: top;\n",
              "    }\n",
              "\n",
              "    .dataframe thead th {\n",
              "        text-align: right;\n",
              "    }\n",
              "</style>\n",
              "<table border=\"1\" class=\"dataframe\">\n",
              "  <thead>\n",
              "    <tr style=\"text-align: right;\">\n",
              "      <th></th>\n",
              "      <th>price</th>\n",
              "      <th>yearOfRegistration</th>\n",
              "      <th>powerPS</th>\n",
              "      <th>kilometer</th>\n",
              "      <th>monthOfRegistration</th>\n",
              "      <th>gearbox_labels</th>\n",
              "      <th>notRepairedDamage_labels</th>\n",
              "      <th>model_labels</th>\n",
              "      <th>brand_labels</th>\n",
              "      <th>fuelType_labels</th>\n",
              "      <th>vehicleType_labels</th>\n",
              "    </tr>\n",
              "  </thead>\n",
              "  <tbody>\n",
              "    <tr>\n",
              "      <th>1</th>\n",
              "      <td>18300</td>\n",
              "      <td>2011</td>\n",
              "      <td>190</td>\n",
              "      <td>125000</td>\n",
              "      <td>5</td>\n",
              "      <td>1</td>\n",
              "      <td>1</td>\n",
              "      <td>162</td>\n",
              "      <td>1</td>\n",
              "      <td>1</td>\n",
              "      <td>3</td>\n",
              "    </tr>\n",
              "    <tr>\n",
              "      <th>2</th>\n",
              "      <td>9800</td>\n",
              "      <td>2004</td>\n",
              "      <td>163</td>\n",
              "      <td>125000</td>\n",
              "      <td>8</td>\n",
              "      <td>0</td>\n",
              "      <td>2</td>\n",
              "      <td>118</td>\n",
              "      <td>14</td>\n",
              "      <td>1</td>\n",
              "      <td>8</td>\n",
              "    </tr>\n",
              "    <tr>\n",
              "      <th>3</th>\n",
              "      <td>1500</td>\n",
              "      <td>2001</td>\n",
              "      <td>75</td>\n",
              "      <td>150000</td>\n",
              "      <td>6</td>\n",
              "      <td>1</td>\n",
              "      <td>0</td>\n",
              "      <td>117</td>\n",
              "      <td>38</td>\n",
              "      <td>7</td>\n",
              "      <td>7</td>\n",
              "    </tr>\n",
              "    <tr>\n",
              "      <th>4</th>\n",
              "      <td>3600</td>\n",
              "      <td>2008</td>\n",
              "      <td>69</td>\n",
              "      <td>90000</td>\n",
              "      <td>7</td>\n",
              "      <td>1</td>\n",
              "      <td>0</td>\n",
              "      <td>102</td>\n",
              "      <td>31</td>\n",
              "      <td>1</td>\n",
              "      <td>7</td>\n",
              "    </tr>\n",
              "    <tr>\n",
              "      <th>5</th>\n",
              "      <td>650</td>\n",
              "      <td>1995</td>\n",
              "      <td>102</td>\n",
              "      <td>150000</td>\n",
              "      <td>10</td>\n",
              "      <td>1</td>\n",
              "      <td>1</td>\n",
              "      <td>11</td>\n",
              "      <td>2</td>\n",
              "      <td>7</td>\n",
              "      <td>4</td>\n",
              "    </tr>\n",
              "  </tbody>\n",
              "</table>\n",
              "</div>"
            ],
            "text/plain": [
              "   price  yearOfRegistration  powerPS  kilometer  monthOfRegistration  \\\n",
              "1  18300                2011      190     125000                    5   \n",
              "2   9800                2004      163     125000                    8   \n",
              "3   1500                2001       75     150000                    6   \n",
              "4   3600                2008       69      90000                    7   \n",
              "5    650                1995      102     150000                   10   \n",
              "\n",
              "   gearbox_labels  notRepairedDamage_labels  model_labels  brand_labels  \\\n",
              "1               1                         1           162             1   \n",
              "2               0                         2           118            14   \n",
              "3               1                         0           117            38   \n",
              "4               1                         0           102            31   \n",
              "5               1                         1            11             2   \n",
              "\n",
              "   fuelType_labels  vehicleType_labels  \n",
              "1                1                   3  \n",
              "2                1                   8  \n",
              "3                7                   7  \n",
              "4                1                   7  \n",
              "5                7                   4  "
            ]
          },
          "execution_count": 14,
          "metadata": {},
          "output_type": "execute_result"
        }
      ],
      "source": [
        "labeled.head()"
      ]
    },
    {
      "cell_type": "code",
      "execution_count": null,
      "id": "115d0fd8",
      "metadata": {
        "id": "115d0fd8"
      },
      "outputs": [],
      "source": [
        "from sklearn.model_selection import cross_val_score, train_test_split\n",
        "X_train, X_test, Y_train, Y_test = train_test_split(X ,Y ,test_size = 0.3,random_state = 3)"
      ]
    },
    {
      "cell_type": "code",
      "execution_count": null,
      "id": "1f806708",
      "metadata": {
        "id": "1f806708"
      },
      "outputs": [],
      "source": [
        "from sklearn.ensemble import RandomForestRegressor\n",
        "from sklearn.metrics import r2_score\n",
        "regressor = RandomForestRegressor(n_estimators = 1000,max_depth=10,random_state=34)"
      ]
    },
    {
      "cell_type": "code",
      "execution_count": null,
      "id": "28637ba0",
      "metadata": {
        "id": "28637ba0",
        "outputId": "484bb3e5-1885-4a86-a0a4-0d2730eb5282"
      },
      "outputs": [
        {
          "data": {
            "text/plain": [
              "RandomForestRegressor(max_depth=10, n_estimators=1000, random_state=34)"
            ]
          },
          "execution_count": 17,
          "metadata": {},
          "output_type": "execute_result"
        }
      ],
      "source": [
        "regressor.fit(X_train,np.ravel(Y_train,order='C'))"
      ]
    },
    {
      "cell_type": "code",
      "execution_count": null,
      "id": "93afa38b",
      "metadata": {
        "id": "93afa38b",
        "outputId": "df5256ed-1a85-44fc-e1b9-9ab319c46f1b"
      },
      "outputs": [
        {
          "name": "stdout",
          "output_type": "stream",
          "text": [
            "0.834527626497731\n"
          ]
        }
      ],
      "source": [
        "y_pred = regressor.predict(X_test)\n",
        "print(r2_score(Y_test,y_pred))"
      ]
    },
    {
      "cell_type": "code",
      "execution_count": null,
      "id": "943bfc31",
      "metadata": {
        "id": "943bfc31"
      },
      "outputs": [],
      "source": [
        "filename = 'resale_model.sav'\n",
        "pickle.dump(regressor,open(filename,'wb'))"
      ]
    },
    {
      "cell_type": "code",
      "execution_count": null,
      "id": "c06a33de",
      "metadata": {
        "id": "c06a33de"
      },
      "outputs": [],
      "source": []
    }
  ],
  "metadata": {
    "kernelspec": {
      "display_name": "Python 3 (ipykernel)",
      "language": "python",
      "name": "python3"
    },
    "language_info": {
      "codemirror_mode": {
        "name": "ipython",
        "version": 3
      },
      "file_extension": ".py",
      "mimetype": "text/x-python",
      "name": "python",
      "nbconvert_exporter": "python",
      "pygments_lexer": "ipython3",
      "version": "3.9.12"
    },
    "colab": {
      "provenance": []
    }
  },
  "nbformat": 4,
  "nbformat_minor": 5
}